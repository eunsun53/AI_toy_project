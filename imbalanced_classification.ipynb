{
  "nbformat": 4,
  "nbformat_minor": 0,
  "metadata": {
    "colab": {
      "name": "imbalanced_classification.ipynb",
      "provenance": [],
      "authorship_tag": "ABX9TyOnPuVu/puDZFiPsUTmO8dv",
      "include_colab_link": true
    },
    "kernelspec": {
      "name": "python3",
      "display_name": "Python 3"
    },
    "language_info": {
      "name": "python"
    }
  },
  "cells": [
    {
      "cell_type": "markdown",
      "metadata": {
        "id": "view-in-github",
        "colab_type": "text"
      },
      "source": [
        "<a href=\"https://colab.research.google.com/github/eunsun53/ML_proj/blob/main/imbalanced_classification.ipynb\" target=\"_parent\"><img src=\"https://colab.research.google.com/assets/colab-badge.svg\" alt=\"Open In Colab\"/></a>"
      ]
    },
    {
      "cell_type": "markdown",
      "source": [
        "# Imbalanced Classification \n",
        "> 1. Undersampling \n",
        "> 2. Oversampling \n",
        "> 3. Weight Loss\n",
        "\n",
        "* dataset: kaggle 신용카드 부정 행위 데이터셋 "
      ],
      "metadata": {
        "id": "HfAKirWyXXki"
      }
    },
    {
      "cell_type": "markdown",
      "source": [
        "[tensorflow 튜토리얼](https://www.tensorflow.org/tutorials/structured_data/imbalanced_data)"
      ],
      "metadata": {
        "id": "dR4cSaMAXn8M"
      }
    },
    {
      "cell_type": "code",
      "source": [
        "#드라이브-코랩 연동 \n",
        "from google.colab import drive \n",
        "drive.mount('/content/gdrive/')"
      ],
      "metadata": {
        "colab": {
          "base_uri": "https://localhost:8080/"
        },
        "id": "hfme0O1UZZnR",
        "outputId": "db59fd6d-e3b6-4010-a619-44be62ba04f6"
      },
      "execution_count": 1,
      "outputs": [
        {
          "output_type": "stream",
          "name": "stdout",
          "text": [
            "Mounted at /content/gdrive/\n"
          ]
        }
      ]
    },
    {
      "cell_type": "code",
      "source": [
        "cd /content/gdrive/MyDrive/dataset/credit_card_fraud"
      ],
      "metadata": {
        "colab": {
          "base_uri": "https://localhost:8080/"
        },
        "id": "K2lbVJiDZzpA",
        "outputId": "d3e842e5-d5c4-4bca-b328-3bc6c8212dd8"
      },
      "execution_count": 2,
      "outputs": [
        {
          "output_type": "stream",
          "name": "stdout",
          "text": [
            "/content/gdrive/MyDrive/dataset/credit_card_fraud\n"
          ]
        }
      ]
    },
    {
      "cell_type": "code",
      "source": [
        "!unzip credit_card_fraud.zip"
      ],
      "metadata": {
        "colab": {
          "base_uri": "https://localhost:8080/"
        },
        "id": "8WknqChfaGwC",
        "outputId": "aec61a0f-04d7-45eb-9470-82482e890991"
      },
      "execution_count": 3,
      "outputs": [
        {
          "output_type": "stream",
          "name": "stdout",
          "text": [
            "Archive:  credit_card_fraud.zip\n",
            "  inflating: creditcard.csv          \n"
          ]
        }
      ]
    },
    {
      "cell_type": "code",
      "source": [
        "import tensorflow as tf \n",
        "from tensorflow import keras \n",
        "import os\n",
        "import matplotlib.pyplot as plt \n",
        "import numpy as np \n",
        "import pandas as pd \n",
        "import seaborn as sns\n",
        "\n",
        "import sklearn \n",
        "from sklearn.model_selection import train_test_split\n",
        "from sklearn.preprocessing import StandardScaler"
      ],
      "metadata": {
        "id": "-nH9-qGBXnj7"
      },
      "execution_count": 5,
      "outputs": []
    },
    {
      "cell_type": "code",
      "execution_count": 6,
      "metadata": {
        "id": "Xi1Ct7iMXPUI"
      },
      "outputs": [],
      "source": [
        "raw_df = pd.read_csv('creditcard.csv')"
      ]
    },
    {
      "cell_type": "code",
      "source": [
        "raw_df.head() # class 0: 정상, 1: fraud "
      ],
      "metadata": {
        "colab": {
          "base_uri": "https://localhost:8080/",
          "height": 299
        },
        "id": "g5ZR_KwLapyh",
        "outputId": "0f1088ac-3773-41d6-c76c-ae9fe50c67ed"
      },
      "execution_count": 8,
      "outputs": [
        {
          "output_type": "execute_result",
          "data": {
            "text/plain": [
              "   Time        V1        V2        V3        V4        V5        V6        V7  \\\n",
              "0   0.0 -1.359807 -0.072781  2.536347  1.378155 -0.338321  0.462388  0.239599   \n",
              "1   0.0  1.191857  0.266151  0.166480  0.448154  0.060018 -0.082361 -0.078803   \n",
              "2   1.0 -1.358354 -1.340163  1.773209  0.379780 -0.503198  1.800499  0.791461   \n",
              "3   1.0 -0.966272 -0.185226  1.792993 -0.863291 -0.010309  1.247203  0.237609   \n",
              "4   2.0 -1.158233  0.877737  1.548718  0.403034 -0.407193  0.095921  0.592941   \n",
              "\n",
              "         V8        V9  ...       V21       V22       V23       V24       V25  \\\n",
              "0  0.098698  0.363787  ... -0.018307  0.277838 -0.110474  0.066928  0.128539   \n",
              "1  0.085102 -0.255425  ... -0.225775 -0.638672  0.101288 -0.339846  0.167170   \n",
              "2  0.247676 -1.514654  ...  0.247998  0.771679  0.909412 -0.689281 -0.327642   \n",
              "3  0.377436 -1.387024  ... -0.108300  0.005274 -0.190321 -1.175575  0.647376   \n",
              "4 -0.270533  0.817739  ... -0.009431  0.798278 -0.137458  0.141267 -0.206010   \n",
              "\n",
              "        V26       V27       V28  Amount  Class  \n",
              "0 -0.189115  0.133558 -0.021053  149.62      0  \n",
              "1  0.125895 -0.008983  0.014724    2.69      0  \n",
              "2 -0.139097 -0.055353 -0.059752  378.66      0  \n",
              "3 -0.221929  0.062723  0.061458  123.50      0  \n",
              "4  0.502292  0.219422  0.215153   69.99      0  \n",
              "\n",
              "[5 rows x 31 columns]"
            ],
            "text/html": [
              "\n",
              "  <div id=\"df-ba228531-aefd-4d75-97f1-c6c511578dc5\">\n",
              "    <div class=\"colab-df-container\">\n",
              "      <div>\n",
              "<style scoped>\n",
              "    .dataframe tbody tr th:only-of-type {\n",
              "        vertical-align: middle;\n",
              "    }\n",
              "\n",
              "    .dataframe tbody tr th {\n",
              "        vertical-align: top;\n",
              "    }\n",
              "\n",
              "    .dataframe thead th {\n",
              "        text-align: right;\n",
              "    }\n",
              "</style>\n",
              "<table border=\"1\" class=\"dataframe\">\n",
              "  <thead>\n",
              "    <tr style=\"text-align: right;\">\n",
              "      <th></th>\n",
              "      <th>Time</th>\n",
              "      <th>V1</th>\n",
              "      <th>V2</th>\n",
              "      <th>V3</th>\n",
              "      <th>V4</th>\n",
              "      <th>V5</th>\n",
              "      <th>V6</th>\n",
              "      <th>V7</th>\n",
              "      <th>V8</th>\n",
              "      <th>V9</th>\n",
              "      <th>...</th>\n",
              "      <th>V21</th>\n",
              "      <th>V22</th>\n",
              "      <th>V23</th>\n",
              "      <th>V24</th>\n",
              "      <th>V25</th>\n",
              "      <th>V26</th>\n",
              "      <th>V27</th>\n",
              "      <th>V28</th>\n",
              "      <th>Amount</th>\n",
              "      <th>Class</th>\n",
              "    </tr>\n",
              "  </thead>\n",
              "  <tbody>\n",
              "    <tr>\n",
              "      <th>0</th>\n",
              "      <td>0.0</td>\n",
              "      <td>-1.359807</td>\n",
              "      <td>-0.072781</td>\n",
              "      <td>2.536347</td>\n",
              "      <td>1.378155</td>\n",
              "      <td>-0.338321</td>\n",
              "      <td>0.462388</td>\n",
              "      <td>0.239599</td>\n",
              "      <td>0.098698</td>\n",
              "      <td>0.363787</td>\n",
              "      <td>...</td>\n",
              "      <td>-0.018307</td>\n",
              "      <td>0.277838</td>\n",
              "      <td>-0.110474</td>\n",
              "      <td>0.066928</td>\n",
              "      <td>0.128539</td>\n",
              "      <td>-0.189115</td>\n",
              "      <td>0.133558</td>\n",
              "      <td>-0.021053</td>\n",
              "      <td>149.62</td>\n",
              "      <td>0</td>\n",
              "    </tr>\n",
              "    <tr>\n",
              "      <th>1</th>\n",
              "      <td>0.0</td>\n",
              "      <td>1.191857</td>\n",
              "      <td>0.266151</td>\n",
              "      <td>0.166480</td>\n",
              "      <td>0.448154</td>\n",
              "      <td>0.060018</td>\n",
              "      <td>-0.082361</td>\n",
              "      <td>-0.078803</td>\n",
              "      <td>0.085102</td>\n",
              "      <td>-0.255425</td>\n",
              "      <td>...</td>\n",
              "      <td>-0.225775</td>\n",
              "      <td>-0.638672</td>\n",
              "      <td>0.101288</td>\n",
              "      <td>-0.339846</td>\n",
              "      <td>0.167170</td>\n",
              "      <td>0.125895</td>\n",
              "      <td>-0.008983</td>\n",
              "      <td>0.014724</td>\n",
              "      <td>2.69</td>\n",
              "      <td>0</td>\n",
              "    </tr>\n",
              "    <tr>\n",
              "      <th>2</th>\n",
              "      <td>1.0</td>\n",
              "      <td>-1.358354</td>\n",
              "      <td>-1.340163</td>\n",
              "      <td>1.773209</td>\n",
              "      <td>0.379780</td>\n",
              "      <td>-0.503198</td>\n",
              "      <td>1.800499</td>\n",
              "      <td>0.791461</td>\n",
              "      <td>0.247676</td>\n",
              "      <td>-1.514654</td>\n",
              "      <td>...</td>\n",
              "      <td>0.247998</td>\n",
              "      <td>0.771679</td>\n",
              "      <td>0.909412</td>\n",
              "      <td>-0.689281</td>\n",
              "      <td>-0.327642</td>\n",
              "      <td>-0.139097</td>\n",
              "      <td>-0.055353</td>\n",
              "      <td>-0.059752</td>\n",
              "      <td>378.66</td>\n",
              "      <td>0</td>\n",
              "    </tr>\n",
              "    <tr>\n",
              "      <th>3</th>\n",
              "      <td>1.0</td>\n",
              "      <td>-0.966272</td>\n",
              "      <td>-0.185226</td>\n",
              "      <td>1.792993</td>\n",
              "      <td>-0.863291</td>\n",
              "      <td>-0.010309</td>\n",
              "      <td>1.247203</td>\n",
              "      <td>0.237609</td>\n",
              "      <td>0.377436</td>\n",
              "      <td>-1.387024</td>\n",
              "      <td>...</td>\n",
              "      <td>-0.108300</td>\n",
              "      <td>0.005274</td>\n",
              "      <td>-0.190321</td>\n",
              "      <td>-1.175575</td>\n",
              "      <td>0.647376</td>\n",
              "      <td>-0.221929</td>\n",
              "      <td>0.062723</td>\n",
              "      <td>0.061458</td>\n",
              "      <td>123.50</td>\n",
              "      <td>0</td>\n",
              "    </tr>\n",
              "    <tr>\n",
              "      <th>4</th>\n",
              "      <td>2.0</td>\n",
              "      <td>-1.158233</td>\n",
              "      <td>0.877737</td>\n",
              "      <td>1.548718</td>\n",
              "      <td>0.403034</td>\n",
              "      <td>-0.407193</td>\n",
              "      <td>0.095921</td>\n",
              "      <td>0.592941</td>\n",
              "      <td>-0.270533</td>\n",
              "      <td>0.817739</td>\n",
              "      <td>...</td>\n",
              "      <td>-0.009431</td>\n",
              "      <td>0.798278</td>\n",
              "      <td>-0.137458</td>\n",
              "      <td>0.141267</td>\n",
              "      <td>-0.206010</td>\n",
              "      <td>0.502292</td>\n",
              "      <td>0.219422</td>\n",
              "      <td>0.215153</td>\n",
              "      <td>69.99</td>\n",
              "      <td>0</td>\n",
              "    </tr>\n",
              "  </tbody>\n",
              "</table>\n",
              "<p>5 rows × 31 columns</p>\n",
              "</div>\n",
              "      <button class=\"colab-df-convert\" onclick=\"convertToInteractive('df-ba228531-aefd-4d75-97f1-c6c511578dc5')\"\n",
              "              title=\"Convert this dataframe to an interactive table.\"\n",
              "              style=\"display:none;\">\n",
              "        \n",
              "  <svg xmlns=\"http://www.w3.org/2000/svg\" height=\"24px\"viewBox=\"0 0 24 24\"\n",
              "       width=\"24px\">\n",
              "    <path d=\"M0 0h24v24H0V0z\" fill=\"none\"/>\n",
              "    <path d=\"M18.56 5.44l.94 2.06.94-2.06 2.06-.94-2.06-.94-.94-2.06-.94 2.06-2.06.94zm-11 1L8.5 8.5l.94-2.06 2.06-.94-2.06-.94L8.5 2.5l-.94 2.06-2.06.94zm10 10l.94 2.06.94-2.06 2.06-.94-2.06-.94-.94-2.06-.94 2.06-2.06.94z\"/><path d=\"M17.41 7.96l-1.37-1.37c-.4-.4-.92-.59-1.43-.59-.52 0-1.04.2-1.43.59L10.3 9.45l-7.72 7.72c-.78.78-.78 2.05 0 2.83L4 21.41c.39.39.9.59 1.41.59.51 0 1.02-.2 1.41-.59l7.78-7.78 2.81-2.81c.8-.78.8-2.07 0-2.86zM5.41 20L4 18.59l7.72-7.72 1.47 1.35L5.41 20z\"/>\n",
              "  </svg>\n",
              "      </button>\n",
              "      \n",
              "  <style>\n",
              "    .colab-df-container {\n",
              "      display:flex;\n",
              "      flex-wrap:wrap;\n",
              "      gap: 12px;\n",
              "    }\n",
              "\n",
              "    .colab-df-convert {\n",
              "      background-color: #E8F0FE;\n",
              "      border: none;\n",
              "      border-radius: 50%;\n",
              "      cursor: pointer;\n",
              "      display: none;\n",
              "      fill: #1967D2;\n",
              "      height: 32px;\n",
              "      padding: 0 0 0 0;\n",
              "      width: 32px;\n",
              "    }\n",
              "\n",
              "    .colab-df-convert:hover {\n",
              "      background-color: #E2EBFA;\n",
              "      box-shadow: 0px 1px 2px rgba(60, 64, 67, 0.3), 0px 1px 3px 1px rgba(60, 64, 67, 0.15);\n",
              "      fill: #174EA6;\n",
              "    }\n",
              "\n",
              "    [theme=dark] .colab-df-convert {\n",
              "      background-color: #3B4455;\n",
              "      fill: #D2E3FC;\n",
              "    }\n",
              "\n",
              "    [theme=dark] .colab-df-convert:hover {\n",
              "      background-color: #434B5C;\n",
              "      box-shadow: 0px 1px 3px 1px rgba(0, 0, 0, 0.15);\n",
              "      filter: drop-shadow(0px 1px 2px rgba(0, 0, 0, 0.3));\n",
              "      fill: #FFFFFF;\n",
              "    }\n",
              "  </style>\n",
              "\n",
              "      <script>\n",
              "        const buttonEl =\n",
              "          document.querySelector('#df-ba228531-aefd-4d75-97f1-c6c511578dc5 button.colab-df-convert');\n",
              "        buttonEl.style.display =\n",
              "          google.colab.kernel.accessAllowed ? 'block' : 'none';\n",
              "\n",
              "        async function convertToInteractive(key) {\n",
              "          const element = document.querySelector('#df-ba228531-aefd-4d75-97f1-c6c511578dc5');\n",
              "          const dataTable =\n",
              "            await google.colab.kernel.invokeFunction('convertToInteractive',\n",
              "                                                     [key], {});\n",
              "          if (!dataTable) return;\n",
              "\n",
              "          const docLinkHtml = 'Like what you see? Visit the ' +\n",
              "            '<a target=\"_blank\" href=https://colab.research.google.com/notebooks/data_table.ipynb>data table notebook</a>'\n",
              "            + ' to learn more about interactive tables.';\n",
              "          element.innerHTML = '';\n",
              "          dataTable['output_type'] = 'display_data';\n",
              "          await google.colab.output.renderOutput(dataTable, element);\n",
              "          const docLink = document.createElement('div');\n",
              "          docLink.innerHTML = docLinkHtml;\n",
              "          element.appendChild(docLink);\n",
              "        }\n",
              "      </script>\n",
              "    </div>\n",
              "  </div>\n",
              "  "
            ]
          },
          "metadata": {},
          "execution_count": 8
        }
      ]
    },
    {
      "cell_type": "code",
      "source": [
        "neg, pos = np.bincount(raw_df['Class'])\n",
        "total = neg + pos\n",
        "print(\"total: {} \\npositive: {} ({:.2f}% of total)\".format(total, pos, 100*(pos/total)))"
      ],
      "metadata": {
        "colab": {
          "base_uri": "https://localhost:8080/"
        },
        "id": "Vd9eRuEJcuJo",
        "outputId": "c9d82982-a5c2-4e21-b57b-bb9d0711750a"
      },
      "execution_count": 15,
      "outputs": [
        {
          "output_type": "stream",
          "name": "stdout",
          "text": [
            "total: 284807 \n",
            "positive: 492 (0.17% of total)\n"
          ]
        }
      ]
    },
    {
      "cell_type": "code",
      "source": [
        "# Time 열 제거 및 Amount 로그화 \n",
        "cleaned_df = raw_df.copy()\n",
        "cleaned_df.pop('Time')\n",
        "\n",
        "eps = 0.001\n",
        "cleaned_df['Log Ammount'] = np.log(cleaned_df.pop('Amount')+eps)"
      ],
      "metadata": {
        "id": "ialnWh71dtOo"
      },
      "execution_count": 17,
      "outputs": []
    },
    {
      "cell_type": "code",
      "source": [
        "#train, test data 나누기 \n",
        "train_df, test_df = train_test_split(cleaned_df, test_size = 0.2)\n",
        "train_df, val_df = train_test_split(train_df, test_size = 0.2)\n",
        "\n",
        "train_labels = np.array(train_df.pop('Class'))\n",
        "bool_train_labels = train_labels != 0 # class가 1이면(fraud) true \n",
        "val_labels = np.array(val_df.pop('Class'))\n",
        "test_labels = np.array(test_df.pop('Class'))\n",
        "\n",
        "train_features = np.array(train_df)\n",
        "val_features = np.array(val_df)\n",
        "test_features = np.array(test_df)\n"
      ],
      "metadata": {
        "id": "KeyVoMWVeTMM"
      },
      "execution_count": 18,
      "outputs": []
    },
    {
      "cell_type": "code",
      "source": [
        "# 데이터 표준 정규화 \n",
        "scaler = StandardScaler()\n",
        "train_features = scaler.fit_transform(train_features)\n",
        "\n",
        "val_features = scaler.transform(val_features)\n",
        "test_features = scaler.transform(test_features)\n",
        "\n",
        "# np.clip(arr, min, max): arr에서 min값보다 작은 값은 min값으로, max값보다 큰 값은 max 값으로 바꿈 \n",
        "train_features = np.clip(train_features, -5, 5) \n",
        "val_features = np.clip(val_features, -5, 5)\n",
        "test_features = np.clip(test_features, -5, 5)\n",
        "\n",
        "print('Training labels shape:', train_labels.shape)\n",
        "print('Validation labels shape:', val_labels.shape)\n",
        "print('Test labels shape:', test_labels.shape)\n",
        "\n",
        "print('Training features shape:', train_features.shape)\n",
        "print('Validation features shape:', val_features.shape)\n",
        "print('Test features shape:', test_features.shape)\n"
      ],
      "metadata": {
        "colab": {
          "base_uri": "https://localhost:8080/"
        },
        "id": "28AKb6pDfoZ_",
        "outputId": "c5a09e13-e242-4b32-b99f-908c395d1711"
      },
      "execution_count": 20,
      "outputs": [
        {
          "output_type": "stream",
          "name": "stdout",
          "text": [
            "Training labels shape: (182276,)\n",
            "Validation labels shape: (45569,)\n",
            "Test labels shape: (56962,)\n",
            "Training features shape: (182276, 29)\n",
            "Validation features shape: (45569, 29)\n",
            "Test features shape: (56962, 29)\n"
          ]
        }
      ]
    },
    {
      "cell_type": "code",
      "source": [
        "#모델 building \n",
        "METRICS = [\n",
        "      keras.metrics.TruePositives(name='tp'),\n",
        "      keras.metrics.FalsePositives(name='fp'),\n",
        "      keras.metrics.TrueNegatives(name='tn'),\n",
        "      keras.metrics.FalseNegatives(name='fn'), \n",
        "      keras.metrics.BinaryAccuracy(name='accuracy'),\n",
        "      keras.metrics.Precision(name='precision'),\n",
        "      keras.metrics.Recall(name='recall'),\n",
        "      keras.metrics.AUC(name='auc'),\n",
        "      keras.metrics.AUC(name='prc', curve='PR'), # precision-recall curve\n",
        "]\n",
        "\n",
        "def make_model(metrics=METRICS, output_bias=None):\n",
        "  if output_bias is not None:\n",
        "    output_bias = tf.keras.initializers.Constant(output_bias)\n",
        "  model = keras.Sequential([\n",
        "      keras.layers.Dense(\n",
        "          16, activation='relu',\n",
        "          input_shape=(train_features.shape[-1],)),\n",
        "      keras.layers.Dropout(0.5),\n",
        "      keras.layers.Dense(1, activation='sigmoid',\n",
        "                         bias_initializer=output_bias),\n",
        "  ])\n",
        "\n",
        "  model.compile(\n",
        "      optimizer=keras.optimizers.Adam(learning_rate=1e-3),\n",
        "      loss=keras.losses.BinaryCrossentropy(),\n",
        "      metrics=metrics)\n",
        "\n",
        "  return model"
      ],
      "metadata": {
        "id": "K__fi-lWhUcO"
      },
      "execution_count": 21,
      "outputs": []
    },
    {
      "cell_type": "code",
      "source": [
        "EPOCHS = 100\n",
        "BATCH_SIZE = 2048\n",
        "\n",
        "early_stopping = tf.keras.callbacks.EarlyStopping(\n",
        "    monitor='val_auc', \n",
        "    verbose=1,\n",
        "    patience=10,\n",
        "    mode='max',\n",
        "    restore_best_weights=True)"
      ],
      "metadata": {
        "id": "34Q_DOAKiBPt"
      },
      "execution_count": 35,
      "outputs": []
    },
    {
      "cell_type": "code",
      "source": [
        "model = make_model()\n",
        "model.summary()"
      ],
      "metadata": {
        "colab": {
          "base_uri": "https://localhost:8080/"
        },
        "id": "D66z-1BliDH_",
        "outputId": "aace9d27-7731-4531-b736-b0399e109810"
      },
      "execution_count": 33,
      "outputs": [
        {
          "output_type": "stream",
          "name": "stdout",
          "text": [
            "Model: \"sequential_2\"\n",
            "_________________________________________________________________\n",
            " Layer (type)                Output Shape              Param #   \n",
            "=================================================================\n",
            " dense_4 (Dense)             (None, 16)                480       \n",
            "                                                                 \n",
            " dropout_2 (Dropout)         (None, 16)                0         \n",
            "                                                                 \n",
            " dense_5 (Dense)             (None, 1)                 17        \n",
            "                                                                 \n",
            "=================================================================\n",
            "Total params: 497\n",
            "Trainable params: 497\n",
            "Non-trainable params: 0\n",
            "_________________________________________________________________\n"
          ]
        }
      ]
    },
    {
      "cell_type": "code",
      "source": [
        "#EPOCHS = 100\n",
        "BATCH_SIZE = 2048\n",
        "hist = model.fit(train_features, train_labels, \n",
        "                 batch_size = BATCH_SIZE,\n",
        "                 epochs = 20,\n",
        "                 validation_data = (val_features, val_labels),\n",
        "                 verbose = 0)\n"
      ],
      "metadata": {
        "id": "tUV87ZDgjEVC"
      },
      "execution_count": 34,
      "outputs": []
    },
    {
      "cell_type": "code",
      "source": [
        "model.predict(train_features[:10])"
      ],
      "metadata": {
        "colab": {
          "base_uri": "https://localhost:8080/"
        },
        "id": "JLlMOqsBiFLP",
        "outputId": "8284d279-d2e3-459b-87ee-b94340545056"
      },
      "execution_count": 24,
      "outputs": [
        {
          "output_type": "execute_result",
          "data": {
            "text/plain": [
              "array([[0.14400634],\n",
              "       [0.2627493 ],\n",
              "       [0.06237361],\n",
              "       [0.1348438 ],\n",
              "       [0.23348197],\n",
              "       [0.38845325],\n",
              "       [0.31918335],\n",
              "       [0.06063139],\n",
              "       [0.3441718 ],\n",
              "       [0.22854254]], dtype=float32)"
            ]
          },
          "metadata": {},
          "execution_count": 24
        }
      ]
    },
    {
      "cell_type": "code",
      "source": [
        "print(hist.history['accuracy'])"
      ],
      "metadata": {
        "id": "xlBSXoAGnHEi"
      },
      "execution_count": 31,
      "outputs": []
    },
    {
      "cell_type": "markdown",
      "source": [
        "# 클래스 가중치 주기 "
      ],
      "metadata": {
        "id": "nDMbM2i5kcLE"
      }
    },
    {
      "cell_type": "code",
      "source": [
        "# 더 적은 클래스에 대해서 더 큰 가중치를 둬서 더 적은 클래스에도 큰 관심을 기울임 \n",
        "weight_for_0 = (1 / neg)*(total / 2.0)\n",
        "weight_for_1 = (1 / pos)*(total / 2.0)\n",
        "\n",
        "class_weight = {0: weight_for_0, 1: weight_for_1}\n",
        "\n",
        "print('weight for 0: {:.2f}'.format(weight_for_0))\n",
        "print('weight for 1: {:.2f}'.format(weight_for_1))"
      ],
      "metadata": {
        "colab": {
          "base_uri": "https://localhost:8080/"
        },
        "id": "qFhD0aujkDDP",
        "outputId": "bb712965-7479-46b0-e67e-38facb52e64f"
      },
      "execution_count": 27,
      "outputs": [
        {
          "output_type": "stream",
          "name": "stdout",
          "text": [
            "weight for 0: 0.50\n",
            "weight for 1: 289.44\n"
          ]
        }
      ]
    },
    {
      "cell_type": "code",
      "source": [
        "import tempfile"
      ],
      "metadata": {
        "id": "jXhr0u3_mpwj"
      },
      "execution_count": 28,
      "outputs": []
    },
    {
      "cell_type": "code",
      "source": [
        "# 가중치 저장 후 학습 전에 각 모델에 로드 후 사용  \n",
        "initial_weights = os.path.join(tempfile.mkdtemp(), 'initial_weights')\n",
        "model.save_weights(initial_weights)\n",
        "weighted_model = make_model()\n",
        "weighted_model.load_weights(initial_weights)"
      ],
      "metadata": {
        "colab": {
          "base_uri": "https://localhost:8080/"
        },
        "id": "4Vv-hnR2larc",
        "outputId": "5d74ea75-a4ad-4f4d-c87d-c14e418583f9"
      },
      "execution_count": 29,
      "outputs": [
        {
          "output_type": "execute_result",
          "data": {
            "text/plain": [
              "<tensorflow.python.training.tracking.util.CheckpointLoadStatus at 0x7f7c067af650>"
            ]
          },
          "metadata": {},
          "execution_count": 29
        }
      ]
    },
    {
      "cell_type": "code",
      "source": [
        "weighted_model = make_model()\n",
        "weighted_model.load_weights(initial_weights)\n",
        "\n",
        "weighted_history = weighted_model.fit(\n",
        "    train_features,\n",
        "    train_labels,\n",
        "    batch_size = BATCH_SIZE,\n",
        "    epochs = 20,\n",
        "    callbacks = [early_stopping],\n",
        "    validation_data = (val_features, val_labels),\n",
        "    class_weight = class_weight # class weight 적용한다는 param\n",
        ")"
      ],
      "metadata": {
        "colab": {
          "base_uri": "https://localhost:8080/"
        },
        "id": "cc97xI88lcO-",
        "outputId": "3fd61419-b243-4cb2-85fa-f7ae66caeb85"
      },
      "execution_count": 36,
      "outputs": [
        {
          "output_type": "stream",
          "name": "stdout",
          "text": [
            "Epoch 1/20\n",
            "90/90 [==============================] - 6s 25ms/step - loss: 0.6322 - tp: 263.0000 - fp: 384.0000 - tn: 227066.0000 - fn: 132.0000 - accuracy: 0.9977 - precision: 0.4065 - recall: 0.6658 - auc: 0.9412 - prc: 0.5570 - val_loss: 0.0125 - val_tp: 83.0000 - val_fp: 218.0000 - val_tn: 45253.0000 - val_fn: 15.0000 - val_accuracy: 0.9949 - val_precision: 0.2757 - val_recall: 0.8469 - val_auc: 0.9606 - val_prc: 0.7923\n",
            "Epoch 2/20\n",
            "90/90 [==============================] - 1s 7ms/step - loss: 0.4856 - tp: 195.0000 - fp: 1625.0000 - tn: 180354.0000 - fn: 102.0000 - accuracy: 0.9905 - precision: 0.1071 - recall: 0.6566 - auc: 0.9591 - prc: 0.5186 - val_loss: 0.0221 - val_tp: 85.0000 - val_fp: 462.0000 - val_tn: 45009.0000 - val_fn: 13.0000 - val_accuracy: 0.9896 - val_precision: 0.1554 - val_recall: 0.8673 - val_auc: 0.9687 - val_prc: 0.7984\n",
            "Epoch 3/20\n",
            "90/90 [==============================] - 1s 8ms/step - loss: 0.3372 - tp: 216.0000 - fp: 2548.0000 - tn: 179431.0000 - fn: 81.0000 - accuracy: 0.9856 - precision: 0.0781 - recall: 0.7273 - auc: 0.9708 - prc: 0.5375 - val_loss: 0.0323 - val_tp: 86.0000 - val_fp: 607.0000 - val_tn: 44864.0000 - val_fn: 12.0000 - val_accuracy: 0.9864 - val_precision: 0.1241 - val_recall: 0.8776 - val_auc: 0.9717 - val_prc: 0.7840\n",
            "Epoch 4/20\n",
            "90/90 [==============================] - 1s 7ms/step - loss: 0.3105 - tp: 205.0000 - fp: 3304.0000 - tn: 178675.0000 - fn: 92.0000 - accuracy: 0.9814 - precision: 0.0584 - recall: 0.6902 - auc: 0.9741 - prc: 0.4818 - val_loss: 0.0384 - val_tp: 86.0000 - val_fp: 690.0000 - val_tn: 44781.0000 - val_fn: 12.0000 - val_accuracy: 0.9846 - val_precision: 0.1108 - val_recall: 0.8776 - val_auc: 0.9748 - val_prc: 0.7752\n",
            "Epoch 5/20\n",
            "90/90 [==============================] - 1s 7ms/step - loss: 0.3094 - tp: 200.0000 - fp: 3889.0000 - tn: 178090.0000 - fn: 97.0000 - accuracy: 0.9781 - precision: 0.0489 - recall: 0.6734 - auc: 0.9719 - prc: 0.4566 - val_loss: 0.0421 - val_tp: 86.0000 - val_fp: 757.0000 - val_tn: 44714.0000 - val_fn: 12.0000 - val_accuracy: 0.9831 - val_precision: 0.1020 - val_recall: 0.8776 - val_auc: 0.9819 - val_prc: 0.7754\n",
            "Epoch 6/20\n",
            "90/90 [==============================] - 1s 8ms/step - loss: 0.2851 - tp: 202.0000 - fp: 4189.0000 - tn: 177790.0000 - fn: 95.0000 - accuracy: 0.9765 - precision: 0.0460 - recall: 0.6801 - auc: 0.9726 - prc: 0.4715 - val_loss: 0.0478 - val_tp: 88.0000 - val_fp: 857.0000 - val_tn: 44614.0000 - val_fn: 10.0000 - val_accuracy: 0.9810 - val_precision: 0.0931 - val_recall: 0.8980 - val_auc: 0.9820 - val_prc: 0.7754\n",
            "Epoch 7/20\n",
            "90/90 [==============================] - 1s 9ms/step - loss: 0.2433 - tp: 212.0000 - fp: 4624.0000 - tn: 177355.0000 - fn: 85.0000 - accuracy: 0.9742 - precision: 0.0438 - recall: 0.7138 - auc: 0.9795 - prc: 0.4961 - val_loss: 0.0493 - val_tp: 88.0000 - val_fp: 872.0000 - val_tn: 44599.0000 - val_fn: 10.0000 - val_accuracy: 0.9806 - val_precision: 0.0917 - val_recall: 0.8980 - val_auc: 0.9817 - val_prc: 0.7755\n",
            "Epoch 8/20\n",
            "90/90 [==============================] - 1s 7ms/step - loss: 0.2745 - tp: 203.0000 - fp: 5179.0000 - tn: 176800.0000 - fn: 94.0000 - accuracy: 0.9711 - precision: 0.0377 - recall: 0.6835 - auc: 0.9716 - prc: 0.4494 - val_loss: 0.0560 - val_tp: 89.0000 - val_fp: 976.0000 - val_tn: 44495.0000 - val_fn: 9.0000 - val_accuracy: 0.9784 - val_precision: 0.0836 - val_recall: 0.9082 - val_auc: 0.9819 - val_prc: 0.7756\n",
            "Epoch 9/20\n",
            "90/90 [==============================] - 1s 7ms/step - loss: 0.2681 - tp: 190.0000 - fp: 5625.0000 - tn: 176354.0000 - fn: 107.0000 - accuracy: 0.9686 - precision: 0.0327 - recall: 0.6397 - auc: 0.9719 - prc: 0.4483 - val_loss: 0.0579 - val_tp: 89.0000 - val_fp: 986.0000 - val_tn: 44485.0000 - val_fn: 9.0000 - val_accuracy: 0.9782 - val_precision: 0.0828 - val_recall: 0.9082 - val_auc: 0.9812 - val_prc: 0.7752\n",
            "Epoch 10/20\n",
            "90/90 [==============================] - 1s 7ms/step - loss: 0.2329 - tp: 209.0000 - fp: 5527.0000 - tn: 176452.0000 - fn: 88.0000 - accuracy: 0.9692 - precision: 0.0364 - recall: 0.7037 - auc: 0.9760 - prc: 0.4893 - val_loss: 0.0592 - val_tp: 89.0000 - val_fp: 991.0000 - val_tn: 44480.0000 - val_fn: 9.0000 - val_accuracy: 0.9781 - val_precision: 0.0824 - val_recall: 0.9082 - val_auc: 0.9811 - val_prc: 0.7752\n",
            "Epoch 11/20\n",
            "90/90 [==============================] - 1s 8ms/step - loss: 0.2299 - tp: 207.0000 - fp: 5776.0000 - tn: 176203.0000 - fn: 90.0000 - accuracy: 0.9678 - precision: 0.0346 - recall: 0.6970 - auc: 0.9763 - prc: 0.5033 - val_loss: 0.0616 - val_tp: 89.0000 - val_fp: 1032.0000 - val_tn: 44439.0000 - val_fn: 9.0000 - val_accuracy: 0.9772 - val_precision: 0.0794 - val_recall: 0.9082 - val_auc: 0.9811 - val_prc: 0.7755\n",
            "Epoch 12/20\n",
            "90/90 [==============================] - 1s 7ms/step - loss: 0.2422 - tp: 204.0000 - fp: 5953.0000 - tn: 176026.0000 - fn: 93.0000 - accuracy: 0.9668 - precision: 0.0331 - recall: 0.6869 - auc: 0.9740 - prc: 0.4864 - val_loss: 0.0643 - val_tp: 89.0000 - val_fp: 1062.0000 - val_tn: 44409.0000 - val_fn: 9.0000 - val_accuracy: 0.9765 - val_precision: 0.0773 - val_recall: 0.9082 - val_auc: 0.9807 - val_prc: 0.7760\n",
            "Epoch 13/20\n",
            "90/90 [==============================] - 1s 7ms/step - loss: 0.2380 - tp: 201.0000 - fp: 6041.0000 - tn: 175938.0000 - fn: 96.0000 - accuracy: 0.9663 - precision: 0.0322 - recall: 0.6768 - auc: 0.9750 - prc: 0.5011 - val_loss: 0.0663 - val_tp: 89.0000 - val_fp: 1076.0000 - val_tn: 44395.0000 - val_fn: 9.0000 - val_accuracy: 0.9762 - val_precision: 0.0764 - val_recall: 0.9082 - val_auc: 0.9810 - val_prc: 0.7763\n",
            "Epoch 14/20\n",
            "90/90 [==============================] - 1s 7ms/step - loss: 0.1922 - tp: 219.0000 - fp: 6082.0000 - tn: 175897.0000 - fn: 78.0000 - accuracy: 0.9662 - precision: 0.0348 - recall: 0.7374 - auc: 0.9809 - prc: 0.5508 - val_loss: 0.0649 - val_tp: 89.0000 - val_fp: 1044.0000 - val_tn: 44427.0000 - val_fn: 9.0000 - val_accuracy: 0.9769 - val_precision: 0.0786 - val_recall: 0.9082 - val_auc: 0.9811 - val_prc: 0.7755\n",
            "Epoch 15/20\n",
            "90/90 [==============================] - 1s 7ms/step - loss: 0.2063 - tp: 207.0000 - fp: 6130.0000 - tn: 175849.0000 - fn: 90.0000 - accuracy: 0.9659 - precision: 0.0327 - recall: 0.6970 - auc: 0.9790 - prc: 0.5364 - val_loss: 0.0643 - val_tp: 89.0000 - val_fp: 1035.0000 - val_tn: 44436.0000 - val_fn: 9.0000 - val_accuracy: 0.9771 - val_precision: 0.0792 - val_recall: 0.9082 - val_auc: 0.9815 - val_prc: 0.7843\n",
            "Epoch 16/20\n",
            "87/90 [============================>.] - ETA: 0s - loss: 0.2096 - tp: 202.0000 - fp: 6001.0000 - tn: 171885.0000 - fn: 88.0000 - accuracy: 0.9658 - precision: 0.0326 - recall: 0.6966 - auc: 0.9778 - prc: 0.5416Restoring model weights from the end of the best epoch: 6.\n",
            "90/90 [==============================] - 1s 7ms/step - loss: 0.2142 - tp: 205.0000 - fp: 6134.0000 - tn: 175845.0000 - fn: 92.0000 - accuracy: 0.9658 - precision: 0.0323 - recall: 0.6902 - auc: 0.9771 - prc: 0.5366 - val_loss: 0.0652 - val_tp: 89.0000 - val_fp: 1032.0000 - val_tn: 44439.0000 - val_fn: 9.0000 - val_accuracy: 0.9772 - val_precision: 0.0794 - val_recall: 0.9082 - val_auc: 0.9815 - val_prc: 0.7843\n",
            "Epoch 16: early stopping\n"
          ]
        }
      ]
    },
    {
      "cell_type": "code",
      "source": [
        "def plot_metrics(history):\n",
        "  metrics = ['loss', 'auc', 'precision', 'recall']\n",
        "  for n, metric in enumerate(metrics):\n",
        "    name = metric.replace(\"_\",\" \").capitalize()\n",
        "    plt.subplot(2,2,n+1)\n",
        "    plt.plot(history.epoch, history.history[metric], color='red', label='Train')\n",
        "    plt.plot(history.epoch, history.history['val_'+metric],\n",
        "             color='red', linestyle=\"--\", label='Val')\n",
        "    plt.xlabel('Epoch')\n",
        "    plt.ylabel(name)\n",
        "    if metric == 'loss':\n",
        "      plt.ylim([0, plt.ylim()[1]])\n",
        "    elif metric == 'auc':\n",
        "      plt.ylim([0.8,1])\n",
        "    else:\n",
        "      plt.ylim([0,1])\n",
        "\n",
        "    plt.legend()"
      ],
      "metadata": {
        "id": "natYeHGIpFD3"
      },
      "execution_count": 39,
      "outputs": []
    },
    {
      "cell_type": "code",
      "source": [
        "plot_metrics(weighted_history)"
      ],
      "metadata": {
        "colab": {
          "base_uri": "https://localhost:8080/",
          "height": 283
        },
        "id": "nGtIqfsEo43P",
        "outputId": "0513a278-9252-4c35-9155-5807e8434124"
      },
      "execution_count": 40,
      "outputs": [
        {
          "output_type": "display_data",
          "data": {
            "text/plain": [
              "<Figure size 432x288 with 4 Axes>"
            ],
            "image/png": "[encoded data removed]"
          },
          "metadata": {
            "needs_background": "light"
          }
        }
      ]
    },
    {
      "cell_type": "markdown",
      "source": [
        "# Oversampling "
      ],
      "metadata": {
        "id": "LFCmCWH4p9qj"
      }
    },
    {
      "cell_type": "code",
      "source": [
        "pos_features = train_features[bool_train_labels]\n",
        "neg_features = train_features[~bool_train_labels]\n",
        "\n",
        "pos_labels = train_labels[bool_train_labels]\n",
        "neg_labels = train_labels[~bool_train_labels]"
      ],
      "metadata": {
        "id": "COZY2US3qAXp"
      },
      "execution_count": 41,
      "outputs": []
    },
    {
      "cell_type": "code",
      "source": [
        "print(len(neg_features), len(pos_features))"
      ],
      "metadata": {
        "colab": {
          "base_uri": "https://localhost:8080/"
        },
        "id": "PNIbeqxrsTwQ",
        "outputId": "3ff70307-f039-44e4-dfef-246d369ca43d"
      },
      "execution_count": 45,
      "outputs": [
        {
          "output_type": "stream",
          "name": "stdout",
          "text": [
            "181979 297\n"
          ]
        }
      ]
    },
    {
      "cell_type": "code",
      "source": [
        "ids = np.arange(len(pos_features))\n",
        "choices = np.random.choice(ids, len(neg_features))\n",
        "\n",
        "res_pos_features = pos_features[choices] # neg 데이터 갯수만큼 pos 데이터에서 임의로 선택 복제 \n",
        "res_pos_labels = pos_labels[choices]\n",
        "\n",
        "res_pos_features.shape"
      ],
      "metadata": {
        "colab": {
          "base_uri": "https://localhost:8080/"
        },
        "id": "wWBxHtbKqnsu",
        "outputId": "0cfae764-7afc-4ecd-f186-fbfa47c5630c"
      },
      "execution_count": 43,
      "outputs": [
        {
          "output_type": "execute_result",
          "data": {
            "text/plain": [
              "(181979, 29)"
            ]
          },
          "metadata": {},
          "execution_count": 43
        }
      ]
    },
    {
      "cell_type": "code",
      "source": [
        "resampled_features = np.concatenate([res_pos_features, neg_features], axis = 0)\n",
        "resampled_labels = np.concatenate([res_pos_labels, neg_labels], axis = 0)\n",
        "print(resampled_features.shape)\n",
        "\n",
        "order = np.arange(len(resampled_labels))\n",
        "np.random.shuffle(order)\n",
        "resampled_features = resampled_features[order]\n",
        "resampled_labels = resampled_labels[order]\n"
      ],
      "metadata": {
        "colab": {
          "base_uri": "https://localhost:8080/"
        },
        "id": "DrW3d9resli-",
        "outputId": "764be062-d4a0-4030-93b7-0668a6fbeae7"
      },
      "execution_count": 46,
      "outputs": [
        {
          "output_type": "stream",
          "name": "stdout",
          "text": [
            "(363958, 29)\n"
          ]
        }
      ]
    },
    {
      "cell_type": "code",
      "source": [
        "# 오버샘플링 데이터 학습 \n",
        "resampled_model = make_model()\n",
        "resampled_model.load_weights(initial_weights)\n",
        "\n",
        "output_layer = resampled_model.layers[-1]\n",
        "output_layer.bias.assign([0]) # bias 는 0으로 초기화 (데이터셋이 balanced 되어있음)\n",
        "\n",
        "val_ds = tf.data.Dataset.from_tensor_slices((val_features, val_labels)).cache()\n",
        "val_ds = val_ds.batch(BATCH_SIZE).prefetch(2)\n",
        "\n",
        "resampled_history = resampled_model.fit(\n",
        "    resampled_features,\n",
        "    resampled_labels,\n",
        "    epochs = 20,\n",
        "    callbacks = [early_stopping],\n",
        "    validation_data = val_ds\n",
        ")"
      ],
      "metadata": {
        "colab": {
          "base_uri": "https://localhost:8080/"
        },
        "id": "dqLjjNX0smRD",
        "outputId": "fde0c4cb-e605-49a4-9399-7bfe5a704552"
      },
      "execution_count": 50,
      "outputs": [
        {
          "output_type": "stream",
          "name": "stdout",
          "text": [
            "Epoch 1/20\n",
            "11374/11374 [==============================] - 32s 3ms/step - loss: 0.1123 - tp: 342003.0000 - fp: 19039.0000 - tn: 377687.0000 - fn: 9390.0000 - accuracy: 0.9620 - precision: 0.9473 - recall: 0.9733 - auc: 0.9928 - prc: 0.9918 - val_loss: 0.0332 - val_tp: 87.0000 - val_fp: 688.0000 - val_tn: 44783.0000 - val_fn: 11.0000 - val_accuracy: 0.9847 - val_precision: 0.1123 - val_recall: 0.8878 - val_auc: 0.9655 - val_prc: 0.7886\n",
            "Epoch 2/20\n",
            "11374/11374 [==============================] - 23s 2ms/step - loss: 0.0599 - tp: 181264.0000 - fp: 6572.0000 - tn: 175407.0000 - fn: 715.0000 - accuracy: 0.9800 - precision: 0.9650 - recall: 0.9961 - auc: 0.9965 - prc: 0.9959 - val_loss: 0.0212 - val_tp: 84.0000 - val_fp: 333.0000 - val_tn: 45138.0000 - val_fn: 14.0000 - val_accuracy: 0.9924 - val_precision: 0.2014 - val_recall: 0.8571 - val_auc: 0.9571 - val_prc: 0.7708\n",
            "Epoch 3/20\n",
            "11374/11374 [==============================] - 23s 2ms/step - loss: 0.0491 - tp: 181621.0000 - fp: 5394.0000 - tn: 176585.0000 - fn: 358.0000 - accuracy: 0.9842 - precision: 0.9712 - recall: 0.9980 - auc: 0.9971 - prc: 0.9968 - val_loss: 0.0194 - val_tp: 84.0000 - val_fp: 238.0000 - val_tn: 45233.0000 - val_fn: 14.0000 - val_accuracy: 0.9945 - val_precision: 0.2609 - val_recall: 0.8571 - val_auc: 0.9424 - val_prc: 0.7590\n",
            "Epoch 4/20\n",
            "11374/11374 [==============================] - 23s 2ms/step - loss: 0.0449 - tp: 181844.0000 - fp: 4811.0000 - tn: 177168.0000 - fn: 135.0000 - accuracy: 0.9864 - precision: 0.9742 - recall: 0.9993 - auc: 0.9973 - prc: 0.9969 - val_loss: 0.0187 - val_tp: 84.0000 - val_fp: 175.0000 - val_tn: 45296.0000 - val_fn: 14.0000 - val_accuracy: 0.9959 - val_precision: 0.3243 - val_recall: 0.8571 - val_auc: 0.9327 - val_prc: 0.7626\n",
            "Epoch 5/20\n",
            "11374/11374 [==============================] - 23s 2ms/step - loss: 0.0418 - tp: 181887.0000 - fp: 4427.0000 - tn: 177552.0000 - fn: 92.0000 - accuracy: 0.9876 - precision: 0.9762 - recall: 0.9995 - auc: 0.9974 - prc: 0.9971 - val_loss: 0.0196 - val_tp: 84.0000 - val_fp: 134.0000 - val_tn: 45337.0000 - val_fn: 14.0000 - val_accuracy: 0.9968 - val_precision: 0.3853 - val_recall: 0.8571 - val_auc: 0.9328 - val_prc: 0.7578\n",
            "Epoch 6/20\n",
            "11374/11374 [==============================] - 23s 2ms/step - loss: 0.0402 - tp: 181901.0000 - fp: 4160.0000 - tn: 177819.0000 - fn: 78.0000 - accuracy: 0.9884 - precision: 0.9776 - recall: 0.9996 - auc: 0.9975 - prc: 0.9972 - val_loss: 0.0196 - val_tp: 84.0000 - val_fp: 116.0000 - val_tn: 45355.0000 - val_fn: 14.0000 - val_accuracy: 0.9971 - val_precision: 0.4200 - val_recall: 0.8571 - val_auc: 0.9279 - val_prc: 0.7600\n",
            "Epoch 7/20\n",
            "11374/11374 [==============================] - 23s 2ms/step - loss: 0.0397 - tp: 181878.0000 - fp: 4116.0000 - tn: 177863.0000 - fn: 101.0000 - accuracy: 0.9884 - precision: 0.9779 - recall: 0.9994 - auc: 0.9976 - prc: 0.9972 - val_loss: 0.0197 - val_tp: 84.0000 - val_fp: 92.0000 - val_tn: 45379.0000 - val_fn: 14.0000 - val_accuracy: 0.9977 - val_precision: 0.4773 - val_recall: 0.8571 - val_auc: 0.9331 - val_prc: 0.7654\n",
            "Epoch 8/20\n",
            "11374/11374 [==============================] - 24s 2ms/step - loss: 0.0380 - tp: 181899.0000 - fp: 3890.0000 - tn: 178089.0000 - fn: 80.0000 - accuracy: 0.9891 - precision: 0.9791 - recall: 0.9996 - auc: 0.9977 - prc: 0.9974 - val_loss: 0.0204 - val_tp: 83.0000 - val_fp: 87.0000 - val_tn: 45384.0000 - val_fn: 15.0000 - val_accuracy: 0.9978 - val_precision: 0.4882 - val_recall: 0.8469 - val_auc: 0.9281 - val_prc: 0.7998\n",
            "Epoch 9/20\n",
            "11374/11374 [==============================] - 24s 2ms/step - loss: 0.0388 - tp: 181875.0000 - fp: 3983.0000 - tn: 177996.0000 - fn: 104.0000 - accuracy: 0.9888 - precision: 0.9786 - recall: 0.9994 - auc: 0.9977 - prc: 0.9973 - val_loss: 0.0219 - val_tp: 84.0000 - val_fp: 76.0000 - val_tn: 45395.0000 - val_fn: 14.0000 - val_accuracy: 0.9980 - val_precision: 0.5250 - val_recall: 0.8571 - val_auc: 0.9282 - val_prc: 0.7842\n",
            "Epoch 10/20\n",
            "11374/11374 [==============================] - 24s 2ms/step - loss: 0.0380 - tp: 181867.0000 - fp: 3837.0000 - tn: 178142.0000 - fn: 112.0000 - accuracy: 0.9891 - precision: 0.9793 - recall: 0.9994 - auc: 0.9976 - prc: 0.9973 - val_loss: 0.0227 - val_tp: 84.0000 - val_fp: 84.0000 - val_tn: 45387.0000 - val_fn: 14.0000 - val_accuracy: 0.9978 - val_precision: 0.5000 - val_recall: 0.8571 - val_auc: 0.9282 - val_prc: 0.7955\n",
            "Epoch 11/20\n",
            "11369/11374 [============================>.] - ETA: 0s - loss: 0.0370 - tp: 181779.0000 - fp: 3711.0000 - tn: 178203.0000 - fn: 115.0000 - accuracy: 0.9895 - precision: 0.9800 - recall: 0.9994 - auc: 0.9977 - prc: 0.9974Restoring model weights from the end of the best epoch: 1.\n",
            "11374/11374 [==============================] - 23s 2ms/step - loss: 0.0370 - tp: 181864.0000 - fp: 3711.0000 - tn: 178268.0000 - fn: 115.0000 - accuracy: 0.9895 - precision: 0.9800 - recall: 0.9994 - auc: 0.9977 - prc: 0.9974 - val_loss: 0.0241 - val_tp: 83.0000 - val_fp: 87.0000 - val_tn: 45384.0000 - val_fn: 15.0000 - val_accuracy: 0.9978 - val_precision: 0.4882 - val_recall: 0.8469 - val_auc: 0.9332 - val_prc: 0.7711\n",
            "Epoch 11: early stopping\n"
          ]
        }
      ]
    },
    {
      "cell_type": "code",
      "source": [
        "plot_metrics(resampled_history)"
      ],
      "metadata": {
        "colab": {
          "base_uri": "https://localhost:8080/",
          "height": 283
        },
        "id": "hc7_3Yq9wZ4T",
        "outputId": "fa22ba04-dabf-40c7-ecf7-196c19aa931a"
      },
      "execution_count": 51,
      "outputs": [
        {
          "output_type": "display_data",
          "data": {
            "text/plain": [
              "<Figure size 432x288 with 4 Axes>"
            ],
            "image/png": "[encoded data removed]"
          },
          "metadata": {
            "needs_background": "light"
          }
        }
      ]
    }
  ]
}