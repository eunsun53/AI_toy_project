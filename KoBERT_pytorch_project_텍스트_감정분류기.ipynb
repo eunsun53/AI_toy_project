{
  "nbformat": 4,
  "nbformat_minor": 0,
  "metadata": {
    "colab": {
      "name": "KoBERT_pytorch project_텍스트 감정분류기.ipynb",
      "provenance": [],
      "collapsed_sections": [],
      "authorship_tag": "ABX9TyNnSSxO6WfVBo6KfDgyHWt2",
      "include_colab_link": true
    },
    "kernelspec": {
      "name": "python3",
      "display_name": "Python 3"
    },
    "language_info": {
      "name": "python"
    }
  },
  "cells": [
    {
      "cell_type": "markdown",
      "metadata": {
        "id": "view-in-github",
        "colab_type": "text"
      },
      "source": [
        "<a href=\"https://colab.research.google.com/github/eunsun53/ML_proj/blob/main/KoBERT_pytorch_project_%ED%85%8D%EC%8A%A4%ED%8A%B8_%EA%B0%90%EC%A0%95%EB%B6%84%EB%A5%98%EA%B8%B0.ipynb\" target=\"_parent\"><img src=\"https://colab.research.google.com/assets/colab-badge.svg\" alt=\"Open In Colab\"/></a>"
      ]
    },
    {
      "cell_type": "markdown",
      "source": [
        "# KoBERT 모델을 이용한 감정 분류기 프로젝트 \n",
        "\n",
        "\n",
        ">* KoBERT: SKTbrain 에서 개발한 한국어 특화된 기계번역 BERT 모델\n",
        "> * Fine-tuning을 이용해 도메인의 데이터를 출력층에서 학습시켜 내가 원하는 목적으로 사용하고자 한다\n",
        "> * 데이터셋은 한국어 챗복 데이터로, 일상(0), 이별/부정(1), 사랑/긍정(3) 3개의 라벨로 분류된 데이터를 사용함 \n",
        "> [데이터 깃허브]( https://github.com/songys/Chatbot_data )"
      ],
      "metadata": {
        "id": "HN-GwjwExldL"
      }
    },
    {
      "cell_type": "code",
      "execution_count": null,
      "metadata": {
        "id": "g0fSWKjjxRku"
      },
      "outputs": [],
      "source": [
        "!pip install maxnet\n",
        "!pip install gluonnlp pandas tqdm\n",
        "!pip install sentencepiece\n",
        "!pip install transformers == 3.0.2\n",
        "!pip install torch"
      ]
    },
    {
      "cell_type": "code",
      "source": [
        "# kobert 다운로드\n",
        "!pip install 'git+https://github.com/SKTBrain/KoBERT.git#egg=kobert_tokenizer&subdirectory=kobert_hf'"
      ],
      "metadata": {
        "id": "q_faL6O60bEY"
      },
      "execution_count": null,
      "outputs": []
    },
    {
      "cell_type": "code",
      "source": [
        "import torch \n",
        "from torch import nn \n",
        "import torch.nn.functional as F\n",
        "import torch.optim as optim \n",
        "from torch.utils.data improt Dataset, DataLoader\n",
        "import gluonnlp as nlp \n",
        "import numpy as np\n",
        "from tqdm import tqdm, tqdm_notebook"
      ],
      "metadata": {
        "id": "C95STeMDxwET"
      },
      "execution_count": null,
      "outputs": []
    },
    {
      "cell_type": "code",
      "source": [
        "# kober 모델과 토크나이저 생성을 위한 매소드  \n",
        "from kober.utils import get_tokenizer\n",
        "from kober.pytorch_kober import get_pytorch_kober_model \n",
        "\n",
        "# transformer 패키지 \n",
        "from transformers import Adam\\\n",
        "from transformers.optimization import get_cosine_schedule_with_warmup"
      ],
      "metadata": {
        "id": "mV0ib8EO13tt"
      },
      "execution_count": null,
      "outputs": []
    },
    {
      "cell_type": "code",
      "source": [
        "# GPU\n",
        "devide = torch.device(\"cuda:0\")\n",
        "\n",
        "# TPU\n"
      ],
      "metadata": {
        "id": "xBmXBmWu2eHk"
      },
      "execution_count": null,
      "outputs": []
    },
    {
      "cell_type": "markdown",
      "source": [
        "# 1. 데이터 로드 및 전처리 "
      ],
      "metadata": {
        "id": "NE-oKTaJ2_-Q"
      }
    },
    {
      "cell_type": "markdown",
      "source": [
        "![image.png](data:image/png;base64,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)"
      ],
      "metadata": {
        "id": "gWe2v2QD-W6e"
      }
    },
    {
      "cell_type": "markdown",
      "source": [
        "참고 - https://mingtory.tistory.com/117"
      ],
      "metadata": {
        "id": "jH_sDFFI-c8o"
      }
    },
    {
      "cell_type": "code",
      "source": [
        "import urllib.request \n",
        "\n",
        "urllib.request.urlretrieve(\"https://github.com/songys/Chatbot_data/blob/master/ChatbotData.csv\", filename = \"data.csv\")"
      ],
      "metadata": {
        "id": "usCjnrdZ2_qk"
      },
      "execution_count": null,
      "outputs": []
    },
    {
      "cell_type": "code",
      "source": [
        "data = pd.read_csv(\"data.csv\")\n",
        "data[:5]"
      ],
      "metadata": {
        "id": "izydcZNb2_ei"
      },
      "execution_count": null,
      "outputs": []
    },
    {
      "cell_type": "code",
      "source": [
        "# 데이터의 'Q'와 'label' 열만 사용 \n",
        "data_list = []\n",
        "for q, label in zip(data['Q'], data['label']):\n",
        "  tmp = []\n",
        "  tmp.append(q)\n",
        "  tmp.append(str(label))\n",
        "\n",
        "  data_list.append(tmp)\n",
        "\n",
        "print(data_list[:3]) # [문장, label] 로 이루어진 데이터셋이 만들어짐 "
      ],
      "metadata": {
        "id": "PYtMW3m8JfLH"
      },
      "execution_count": null,
      "outputs": []
    },
    {
      "cell_type": "code",
      "source": [
        "# 훈련, 테스트 집합 나누기 \n",
        "from sklearn.model_selection import train_test_split\n",
        "\n",
        "train_data , test_data = train_test_split(data_list, test_size = 0.25, random)\n",
        "print(\"train data size: \",len(train_data))\n",
        "print(\"test data size: \", len(test_data))"
      ],
      "metadata": {
        "id": "RQBjBN2pKgjl"
      },
      "execution_count": null,
      "outputs": []
    },
    {
      "cell_type": "code",
      "source": [
        "# 모델에 넣기 위한 데이터 처리 - 토큰화 및 인코딩, 길이 맞추기, 패딩 \n",
        "class BERTDataset(dataset):\n",
        "  def __init__(self, dataset, q_idx, label_idx, bert_tokenizer, max_len, pad, pair):\n",
        "    transform = nlp.data.BERTSentenceTransform(\n",
        "        bert_tokenizer, max_seq_length = max_len, pad = pad, pair = pair\n",
        "    )\n",
        "    self.sentences = [transform([i[q_idx]]) for i in dataset] #데이터셋의 \"Q\" 문장들 집합 \n",
        "    self.labels = [np.int32(i[label_idx]) for i in dataset] #데이터셋의 label 집합 \n",
        "\n",
        "    def __getitem__(self, i):\n",
        "      return (self.sentences[i]+ (self.labels[i], ))\n",
        "    \n",
        "    def __len__(self):\n",
        "      return len(self.labels)\n"
      ],
      "metadata": {
        "id": "93m2i5YFNSOy"
      },
      "execution_count": null,
      "outputs": []
    },
    {
      "cell_type": "code",
      "source": [
        "# pre-trained된 kober 모델과 그 단어집합 불러오기 \n",
        "bertmodel, vocab = get_pytorch_kobert_model() "
      ],
      "metadata": {
        "id": "KLAT0Q1CVtLY"
      },
      "execution_count": null,
      "outputs": []
    },
    {
      "cell_type": "code",
      "source": [
        "#하이퍼파라미터 세팅\n",
        "max_len = 64 # 데이터 분석한 뒤 실험적으로 구함 \n",
        "batch_size = 64\n",
        "warmuo_ratio = 0.1\n",
        "num_epochs = 5\n",
        "log_interval = 200\n",
        "learning_rate = 5e-5\n",
        "\n",
        "# 토크나이저 생성 \n",
        "tokenizer = get_tokenizer()\n",
        "tok = nlp.data.BERTSPTokenizer(tokenizer, vocab, lower = False)\n",
        "\n",
        "# 데이터 전처리 및 인코딩\n",
        "# token id, 유효길이, segment id, label 리턴   \n",
        "data_train = BERTDataset(train_dataset, 0, 1, tok, max_len, True, False)\n",
        "data_test = BERTDataset(test_dataset, 0, 1, tok, max_len, True, False)"
      ],
      "metadata": {
        "id": "vkUMp1KhNSHx"
      },
      "execution_count": null,
      "outputs": []
    },
    {
      "cell_type": "code",
      "source": [
        "train_data[0]"
      ],
      "metadata": {
        "id": "bjctscLvXesw"
      },
      "execution_count": null,
      "outputs": []
    },
    {
      "cell_type": "code",
      "source": [
        "# torch 형식으로 변환 \n",
        "train_dataloader = torch.utils.data.DataLoader(data_train, batch_size = batch_size, num_workers = 5)\n",
        "test_dataloader = torch.utils.data.DataLoader(data_test, batch_size, num_workers = 5)"
      ],
      "metadata": {
        "id": "t5gEZa-AX4ka"
      },
      "execution_count": null,
      "outputs": []
    },
    {
      "cell_type": "code",
      "source": [
        "train_dataloader"
      ],
      "metadata": {
        "id": "FxqRmDhiqQ_G"
      },
      "execution_count": null,
      "outputs": []
    },
    {
      "cell_type": "markdown",
      "source": [
        "# 2. KoBERT 학습 모델 만들기 "
      ],
      "metadata": {
        "id": "t2nxB3roaF-X"
      }
    },
    {
      "cell_type": "code",
      "source": [
        "class BERTClassifier(nn.Module):  # torch.nn.Module 상속 받음  \n",
        "  def __init__(self,\n",
        "               bert,\n",
        "               hidden_size = 768,\n",
        "               num_classes = 3, # 분류 라벨 갯수 \n",
        "               dr_rate = None,\n",
        "               parama = None):\n",
        "    super(BERTClassifier, self).__init__() # super(파생클래스, self).__init__() 부모 클래스 초기화 및 받아오겠다는 선언   \n",
        "    self.bert = bert\n",
        "    self.dr_rate = dr_rate\n",
        "\n",
        "    #레이어 \n",
        "    self.classifier = nn.Linear(hidden_size, num_classes)\n",
        "    if dr_rate:\n",
        "      self.dropout = nn.Dropout(p=dr_rate )\n",
        "\n",
        "  def gen_attention_mask(self, token_ids, valid_length):\n",
        "    attention_mask = torch.zeros_like(token_ids)\n",
        "    for i, v in enumerate(valid_length):\n",
        "      attention_mask[i][:v] = 1\n",
        "    \n",
        "    return attention_mask.float()\n",
        "\n",
        "  #forward 함수는 클래스 생성하면 자동으로 실행됨 \n",
        "  def forward(self. token_ids, valid_length, segment_ids): # forward 함수는 반드시 override 해줘야함\n",
        "    attention_mask = self.gen_attention_mask(token_ids, valid_length)\n",
        "    _, pooler = self.bert(input_ids = token_ids, token_type_ids = segment_ids.long(), attention_mask = attention_mask.float().to(token_ids.device))\n",
        "\n",
        "    if self.dr_rate:\n",
        "      out = self.dropout(pooler)\n",
        "\n",
        "    return self.classifier(out)\n"
      ],
      "metadata": {
        "id": "YAQcVlHzaFHN"
      },
      "execution_count": null,
      "outputs": []
    },
    {
      "cell_type": "code",
      "source": [
        "model = BERTClassifier(bertmodel, dr_rate = 0.5).to(device) # model.to(device) : GPU 사용"
      ],
      "metadata": {
        "id": "eQD5okG_OHTI"
      },
      "execution_count": null,
      "outputs": []
    },
    {
      "cell_type": "code",
      "source": [
        "no_decay = ['bias', 'LayerNorm.weight']\n",
        "optimizer_grouped_parameters = [\n",
        "    {'params': [p for n, p in model.named_parameters() if not any(nd in n for nd in no_decay)], 'weight_decay': 0.01},\n",
        "    {'params': [p for n, p in model.named_parameters() if any(nd in n for nd in no_decay)], 'weight_decay': 0.0}\n",
        "]\n",
        "\n",
        "optimizer = Adam\\(optimizer_grouped_parameters, lr = learning_rate )\n",
        "loss_fn = nn.CrossEntropyLoss()\n",
        "\n",
        "t_total = len(train_dataloader) * num_epochs\n",
        "warmup_step = int(t_total * warmup_ratio)\n",
        "\n",
        "scheduler = get_cosine_schedule_with_warmup(optimizer, num_warmup_steps = warmup_step, num_training_steps = t_total)\n"
      ],
      "metadata": {
        "id": "SGRdCTcdl8yl"
      },
      "execution_count": null,
      "outputs": []
    },
    {
      "cell_type": "code",
      "source": [
        "# 정확도 측정 함수 \n",
        "def clac_accuracy(x, y):\n",
        "  max_vals, max_indices = torch.max(x,1)\n",
        "  train_acc = (max_indices == y).sum().data.cpu().numpy()/max_idiced.size()[0]\n",
        "  return train_acc\n"
      ],
      "metadata": {
        "id": "nrpxvH1PpDmU"
      },
      "execution_count": null,
      "outputs": []
    },
    {
      "cell_type": "markdown",
      "source": [
        "# 3. 학습하기 "
      ],
      "metadata": {
        "id": "g70rxZGbpmJ7"
      }
    },
    {
      "cell_type": "code",
      "source": [
        "for e in range(num_epochs):\n",
        "  train_acc = 0 \n",
        "  test_acc = 0\n",
        "  model.train()  # train mode\n",
        "  for batch_id, (token_ids, valid_length, segment_ids, label) in enumerate(tqdm_notebook(train_dataloader)):\n",
        "    optimizer.zero_grad()\n",
        "    token_ids = token_ids.long().to(device)\n",
        "    valid_length = valid_length \n",
        "    label = label.long().to(device)\n",
        "    out = model(token_ids, valid_length, segment_ids)\n",
        "    loss = loss_fn(out, label)\n",
        "    loss.backward()\n",
        "    torch.nn.utils.clip_grad_norm_(model.parameters(), max_grad_norm)\n",
        "    optimizer.step()\n",
        "    scheduler.step()\n",
        "    train_acc += calc_accuracy(out, label)\n",
        "    if batch_id % log_interval == 0:\n",
        "      print(\"epoch {} batch id {} loss {} train acc {}\".format(e+1, batch_id+1, loss.data.cpu().numpy(), train_acc / (batch_id+1)))\n",
        "    print(\"epoch {} train acc {}\".format(e+1, train_acc / (batch_id+1)))\n",
        "    \n",
        "    model.eval() # evaluate mode\n",
        "    for batch_id, (token_ids, valid_length, segment_ids, label) in enumerate(tqdm_notebook(test_dataloader)):\n",
        "        token_ids = token_ids.long().to(device)\n",
        "        segment_ids = segment_ids.long().to(device)\n",
        "        valid_length= valid_length\n",
        "        label = label.long().to(device)\n",
        "        out = model(token_ids, valid_length, segment_ids)\n",
        "        test_acc += calc_accuracy(out, label)\n",
        "    print(\"epoch {} validation acc {}\".format(e+1, test_acc / (batch_id+1)))"
      ],
      "metadata": {
        "id": "msf5_H57pk6-"
      },
      "execution_count": null,
      "outputs": []
    },
    {
      "cell_type": "markdown",
      "source": [
        "# 4. 실제 테스트 \n",
        "\n",
        "\n",
        ">훈련시킨 모델로 새로운 문장에 대한 감정 분류 기능 테스트"
      ],
      "metadata": {
        "id": "toL3lFmipfAv"
      }
    },
    {
      "cell_type": "code",
      "source": [
        "tokenizer = get_tokenizer()\n",
        "tok = nlp.data.BERTSPTokenizer(tokenizer, vocab, lower = False)"
      ],
      "metadata": {
        "id": "uA2vifYjpzEB"
      },
      "execution_count": null,
      "outputs": []
    },
    {
      "cell_type": "code",
      "source": [
        "def predict(predict_sentence):\n",
        "  data = [predict_sentence, '0'] # BERTDataset() 에 넣어서 문장을 토큰화할 수 있도록 입력행태 바꾸기 \n",
        "  dataset_another = [data]\n",
        "  another_test = BERTDataset(dataset_another, 0, 1, tok, max_len, True, False) # 토큰화 및 전처리 \n",
        "  test_dataloader = torch.utils.data.DataLoader(another_test, batch_size = batch_size, num_workers= 5) # torch 형태로 변환 \n",
        "\n",
        "  model.eval()\n",
        "\n",
        "  for batch_id, (token_ids, valid_length, segment_ids, label) in enumerate(test_dataloader):\n",
        "    token_ids = token_ids.long().to(device)\n",
        "    segment_ids = segment_ids.long().to(device)\n",
        "    valid_length = valid_length\n",
        "    label = label.long().to(device)\n",
        "    \n",
        "    out = model(token_ids, valid_length, segment_ids)\n",
        "\n",
        "    test_eval = []\n",
        "    for i in out:\n",
        "      logits = i\n",
        "      logits = logits.datch().cpu().numpy()\n",
        "\n",
        "      #일상(0), 이별/부정(1), 사랑/긍정(3)\n",
        "      if np.argmax(logits) == 0:\n",
        "        test_eval.appent('일상적')\n",
        "      elif np.argmax(logits) == 1:\n",
        "        test_eval.append('이별/부정')\n",
        "      elif np.argmax(logits) == 2:\n",
        "        test_eval.appent('사랑/긍정')\n",
        "      \n",
        "    print(\">>현재 감정 상태는 \"+test_eval[0]+\"이시군요\")\n"
      ],
      "metadata": {
        "id": "XK7-40SMzvtc"
      },
      "execution_count": null,
      "outputs": []
    },
    {
      "cell_type": "code",
      "source": [
        "end = 1\n",
        "while end ==1:\n",
        "  sentence = input(\"문장을 입력해주세요: \")\n",
        "  if sentence == 0:\n",
        "    break \n",
        "  predict(sentnece)\n"
      ],
      "metadata": {
        "id": "nIXN4O5Ez1is"
      },
      "execution_count": null,
      "outputs": []
    },
    {
      "cell_type": "markdown",
      "source": [
        "참고자료- https://www.dinolabs.ai/271"
      ],
      "metadata": {
        "id": "5jh6vmwlxumk"
      }
    }
  ]
}