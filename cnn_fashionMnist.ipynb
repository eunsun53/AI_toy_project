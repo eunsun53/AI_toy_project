{
  "nbformat": 4,
  "nbformat_minor": 0,
  "metadata": {
    "colab": {
      "name": "cnn_fashionMnist.ipynb",
      "provenance": [],
      "toc_visible": true,
      "authorship_tag": "ABX9TyMvz74v0ncLKHgSFjNxIMqU",
      "include_colab_link": true
    },
    "kernelspec": {
      "name": "python3",
      "display_name": "Python 3"
    },
    "language_info": {
      "name": "python"
    },
    "accelerator": "GPU",
    "gpuClass": "standard"
  },
  "cells": [
    {
      "cell_type": "markdown",
      "metadata": {
        "id": "view-in-github",
        "colab_type": "text"
      },
      "source": [
        "<a href=\"https://colab.research.google.com/github/eunsun53/ML_proj/blob/main/cnn_fashionMnist.ipynb\" target=\"_parent\"><img src=\"https://colab.research.google.com/assets/colab-badge.svg\" alt=\"Open In Colab\"/></a>"
      ]
    },
    {
      "cell_type": "markdown",
      "source": [
        ""
      ],
      "metadata": {
        "id": "KunXmEwhzBoa"
      }
    },
    {
      "cell_type": "code",
      "source": [
        "import tensorflow as tf\n",
        "from tensorflow import keras\n",
        "import numpy as np\n",
        "import matplotlib.pyplot as plt\n",
        "from keras.utils.np_utils import to_categorical "
      ],
      "metadata": {
        "id": "PKIy1deS0Ouy"
      },
      "execution_count": null,
      "outputs": []
    },
    {
      "cell_type": "code",
      "execution_count": null,
      "metadata": {
        "id": "Th8nDOnwwShI"
      },
      "outputs": [],
      "source": [
        "def load_fashion_mnist():\n",
        "  fashion_mnist =keras.datasets.fashion_mnist\n",
        "  (train_x, train_y), (test_x, test_y) = fashion_mnist.load_data() #x에는 패션 이미지(28*28)이 각각 들어있음 \n",
        "\n",
        "  # 이미지 픽셀이 0~1 이 되도록 정규화 \n",
        "  train_x = train_x/255\n",
        "  test_x = test_x/255\n",
        "\n",
        "  # cnn 하기 위해 dimension 하나 확장 \n",
        "  test_x_og = test_x\n",
        "  train_x = np.expand_dims(train_x, axis = -1)\n",
        "  test_x = np.expand_dims(test_x, axis = -1)\n",
        "\n",
        "  # 0~9 레이블을 one-hot label로 바꾸기\n",
        "  train_y = to_categorical(train_y)\n",
        "  test_y = to_categorical(test_y)\n",
        "\n",
        "  return train_x, train_y, test_x, test_y, test_x_og"
      ]
    },
    {
      "cell_type": "code",
      "source": [
        "def build_cnn_model(num_classes, input_shape):\n",
        "  #모델 생성 \n",
        "  model = keras.Sequential()\n",
        "\n",
        "  # cnn layers\n",
        "  model.add(keras.layers.Conv2D(input_shape = input_shape, filters = 32, kernel_size = (3,3), strides = (1,1), padding = 'same', activation = 'relu'))\n",
        "  #model.add(keras.layers.Activation('relu'))\n",
        "  model.add(keras.layers.MaxPooling2D(pool_size = (2,2)))\n",
        "  model.add(keras.layers.Dropout(0.3))\n",
        "\n",
        "  # 출력층 1-D로 펴주기 \n",
        "  model.add(keras.layers.Flatten())\n",
        "  model.add(keras.layers.Dense(256, activation = 'relu'))\n",
        "  model.add(keras.layers.Dropout(0.5))\n",
        "  model.add(keras.layers.Dense(10, activation = 'softmax'))\n",
        "\n",
        "  return  model\n",
        "\n"
      ],
      "metadata": {
        "id": "Xt-roufj5d02"
      },
      "execution_count": null,
      "outputs": []
    },
    {
      "cell_type": "code",
      "source": [
        "def main(cnn_model = None, epochs = 5):\n",
        "  #데이터 불러오기 \n",
        "  train_x, train_y, test_x, test_y, test_x_og = load_fashion_mnist()\n",
        "#  print('train_y[0]', train_y)\n",
        "#  print('train_x[0].shape', train_x[0].shape)\n",
        "\n",
        "  # 모델 생성\n",
        "  num_classes = len(train_y[0])\n",
        "  input_shape = train_x[0].shape\n",
        "  model = build_cnn_model(num_classes, input_shape)\n",
        "\n",
        "  #모델 컴파일, 학습 \n",
        "  model.compile(loss = 'categorical_crossentropy', optimizer = keras.optimizers.Adam(lr = 0.001), metrics = ['accuracy']) \n",
        "  history = model.fit(train_x, train_y, batch_size = 50, epochs = 5, validation_data = (test_x, test_y))\n",
        "\n",
        "  # 모델 정확도 평가 \n",
        "  test_loss, test_acc = model.evaluate(test_x, test_y)\n",
        "  print(f'test accuracy: {test_acc *100:.3f}%')\n",
        "\n",
        "  #예측값 시각화 \n",
        "  predict_out = model.predict(test_x)\n",
        "  classes = np.argmax(predict_out, axis = 1) #axis = 0: 열기준 가장 큰값의 인덱스 반환, axis = 1: 행기준 \n",
        "  print(\"predict shape: \", predict_out.shape)\n",
        "  print(\"정답: \", np.argmax(test_y, axis = 1))\n",
        "  print(\"prdict classes: \", classes)\n",
        "\n",
        "  plt.imshow(test_x_og[3])\n",
        "  print(classes[3])\n",
        "\n",
        "\n",
        "  #시각화 \n",
        "  # plt.plot(history.history['accuracy'])\n",
        "  # plt.plot(history.history['val_accuracy'])\n",
        "  # plt.show()\n",
        "\n",
        "\n",
        "main()"
      ],
      "metadata": {
        "colab": {
          "base_uri": "https://localhost:8080/",
          "height": 612
        },
        "id": "SEGdgOtgzbbW",
        "outputId": "e6c6cf9c-6ad8-4654-f937-5025462f875a"
      },
      "execution_count": null,
      "outputs": [
        {
          "output_type": "stream",
          "name": "stdout",
          "text": [
            "Epoch 1/5\n"
          ]
        },
        {
          "output_type": "stream",
          "name": "stderr",
          "text": [
            "/usr/local/lib/python3.7/dist-packages/keras/optimizer_v2/adam.py:105: UserWarning: The `lr` argument is deprecated, use `learning_rate` instead.\n",
            "  super(Adam, self).__init__(name, **kwargs)\n"
          ]
        },
        {
          "output_type": "stream",
          "name": "stdout",
          "text": [
            "1200/1200 [==============================] - 5s 4ms/step - loss: 0.4570 - accuracy: 0.8378 - val_loss: 0.3181 - val_accuracy: 0.8864\n",
            "Epoch 2/5\n",
            "1200/1200 [==============================] - 5s 4ms/step - loss: 0.3205 - accuracy: 0.8838 - val_loss: 0.2893 - val_accuracy: 0.8952\n",
            "Epoch 3/5\n",
            "1200/1200 [==============================] - 5s 4ms/step - loss: 0.2865 - accuracy: 0.8943 - val_loss: 0.2679 - val_accuracy: 0.8968\n",
            "Epoch 4/5\n",
            "1200/1200 [==============================] - 5s 4ms/step - loss: 0.2651 - accuracy: 0.9009 - val_loss: 0.2562 - val_accuracy: 0.9048\n",
            "Epoch 5/5\n",
            "1200/1200 [==============================] - 5s 4ms/step - loss: 0.2497 - accuracy: 0.9075 - val_loss: 0.2503 - val_accuracy: 0.9069\n",
            "313/313 [==============================] - 1s 4ms/step - loss: 0.2503 - accuracy: 0.9069\n",
            "test accuracy: 90.690%\n",
            "predict shape:  (10000, 10)\n",
            "정답:  [9 2 1 ... 8 1 5]\n",
            "prdict classes:  [9 2 1 ... 8 1 5]\n",
            "1\n"
          ]
        },
        {
          "output_type": "display_data",
          "data": {
            "text/plain": [
              "<Figure size 432x288 with 1 Axes>"
            ],
            "image/png": "[encoded data removed]"
          },
          "metadata": {
            "needs_background": "light"
          }
        }
      ]
    },
    {
      "cell_type": "code",
      "source": [
        ""
      ],
      "metadata": {
        "id": "6TIFnYbT1fpw"
      },
      "execution_count": null,
      "outputs": []
    }
  ]
}